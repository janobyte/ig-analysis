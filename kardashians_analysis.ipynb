{
 "cells": [
  {
   "cell_type": "code",
   "execution_count": 1,
   "metadata": {},
   "outputs": [],
   "source": [
    "import pandas as pd\n",
    "import numpy as np\n",
    "\n",
    "import matplotlib.pyplot as plt\n",
    "import seaborn as sns\n",
    "\n",
    "%matplotlib inline\n",
    "import os.path as op\n",
    "import glob\n",
    "from dateutil.relativedelta import relativedelta\n",
    "import datetime\n",
    "import json\n",
    "from pandas.io.json import json_normalize\n",
    "from tqdm import tqdm_notebook as tqdm"
   ]
  },
  {
   "cell_type": "code",
   "execution_count": 2,
   "metadata": {},
   "outputs": [],
   "source": [
    "#search for all json files in a specific folder\n",
    "PTH = r'C:\\Users\\Liyonn\\Desktop\\ig-analysis'\n",
    "FILES_JSON = glob.glob(op.join(PTH, '*.json')) "
   ]
  },
  {
   "cell_type": "code",
   "execution_count": 3,
   "metadata": {},
   "outputs": [
    {
     "data": {
      "text/plain": [
       "['C:\\\\Users\\\\Liyonn\\\\Desktop\\\\ig-analysis\\\\kimkardashian.json',\n",
       " 'C:\\\\Users\\\\Liyonn\\\\Desktop\\\\ig-analysis\\\\robkardashianofficial.json']"
      ]
     },
     "execution_count": 3,
     "metadata": {},
     "output_type": "execute_result"
    }
   ],
   "source": [
    "FILES_JSON"
   ]
  },
  {
   "cell_type": "code",
   "execution_count": 4,
   "metadata": {},
   "outputs": [],
   "source": [
    "#select the precise json file\n",
    "with open(FILES_JSON[0], encoding='utf-8', errors='ignore') as json_data:\n",
    "         data = json.load(json_data, strict=False)"
   ]
  },
  {
   "cell_type": "code",
   "execution_count": 5,
   "metadata": {},
   "outputs": [],
   "source": [
    "with open(FILES_JSON[1], encoding='utf-8', errors='ignore') as json_data2:\n",
    "         data2 = json.load(json_data2, strict=False)"
   ]
  },
  {
   "cell_type": "code",
   "execution_count": 6,
   "metadata": {},
   "outputs": [],
   "source": [
    "#loop through the data2 json file and make an array out of the posts\n",
    "kim_posts=[]\n",
    "for posts in data2['GraphImages']:\n",
    "    kim_posts.append(posts)"
   ]
  },
  {
   "cell_type": "code",
   "execution_count": 7,
   "metadata": {},
   "outputs": [],
   "source": [
    "#put the array into a dataframe\n",
    "df_kim_images=pd.DataFrame(kim_posts)"
   ]
  },
  {
   "cell_type": "code",
   "execution_count": 8,
   "metadata": {},
   "outputs": [],
   "source": [
    "#make an empty array. loop through the json data, and add the posts into the empty array\n",
    "images=[]\n",
    "for pics in data['GraphImages']:\n",
    "    images.append(pics)"
   ]
  },
  {
   "cell_type": "code",
   "execution_count": 9,
   "metadata": {},
   "outputs": [],
   "source": [
    "#make a dataframe from the array of posts\n",
    "df_images=pd.DataFrame(images)"
   ]
  },
  {
   "cell_type": "code",
   "execution_count": 10,
   "metadata": {},
   "outputs": [],
   "source": [
    "#combine the two dataframes\n",
    "image_frames=[df_images, df_kim_images]\n",
    "all_images=pd.concat(image_frames)"
   ]
  },
  {
   "cell_type": "code",
   "execution_count": 11,
   "metadata": {},
   "outputs": [],
   "source": [
    "#remove the columns that aren't needed\n",
    "df_images=df_images.drop(columns={'comments','gating_info', 'owner', 'tags', 'urls','thumbnail_src', 'media_preview','shortcode', 'thumbnail_resources', 'taken_at_timestamp'})"
   ]
  },
  {
   "cell_type": "code",
   "execution_count": 12,
   "metadata": {},
   "outputs": [],
   "source": [
    "#remove the columns that aren't needed\n",
    "all_images=all_images.drop(columns={'comments','gating_info', 'owner', 'tags', 'urls','thumbnail_src', 'media_preview','shortcode', 'thumbnail_resources', 'taken_at_timestamp'})"
   ]
  },
  {
   "cell_type": "code",
   "execution_count": 13,
   "metadata": {},
   "outputs": [],
   "source": [
    "#rename the columns\n",
    "all_images=all_images.rename(columns={'edge_media_to_caption': 'caption', 'edge_media_to_comment': 'comments', 'edge_media_preview_like':'likes', 'display_url':'url'})"
   ]
  },
  {
   "cell_type": "code",
   "execution_count": 14,
   "metadata": {},
   "outputs": [],
   "source": [
    "#get the number of comments\n",
    "comment_count=[]\n",
    "for i in all_images.comments:\n",
    "    comment_count.append(i['count'])"
   ]
  },
  {
   "cell_type": "code",
   "execution_count": 15,
   "metadata": {},
   "outputs": [],
   "source": [
    "all_images['comments']=comment_count"
   ]
  },
  {
   "cell_type": "code",
   "execution_count": 16,
   "metadata": {},
   "outputs": [],
   "source": [
    "#get the number of likes\n",
    "likes_count=[]\n",
    "for i in all_images.likes:\n",
    "    likes_count.append(i['count'])"
   ]
  },
  {
   "cell_type": "code",
   "execution_count": 17,
   "metadata": {},
   "outputs": [],
   "source": [
    "all_images['likes']=likes_count"
   ]
  },
  {
   "cell_type": "code",
   "execution_count": 18,
   "metadata": {},
   "outputs": [
    {
     "data": {
      "text/html": [
       "<div>\n",
       "<style scoped>\n",
       "    .dataframe tbody tr th:only-of-type {\n",
       "        vertical-align: middle;\n",
       "    }\n",
       "\n",
       "    .dataframe tbody tr th {\n",
       "        vertical-align: top;\n",
       "    }\n",
       "\n",
       "    .dataframe thead th {\n",
       "        text-align: right;\n",
       "    }\n",
       "</style>\n",
       "<table border=\"1\" class=\"dataframe\">\n",
       "  <thead>\n",
       "    <tr style=\"text-align: right;\">\n",
       "      <th></th>\n",
       "      <th>__typename</th>\n",
       "      <th>comments_disabled</th>\n",
       "      <th>dimensions</th>\n",
       "      <th>url</th>\n",
       "      <th>likes</th>\n",
       "      <th>caption</th>\n",
       "      <th>comments</th>\n",
       "      <th>id</th>\n",
       "      <th>is_video</th>\n",
       "      <th>username</th>\n",
       "      <th>video_view_count</th>\n",
       "    </tr>\n",
       "  </thead>\n",
       "  <tbody>\n",
       "    <tr>\n",
       "      <td>0</td>\n",
       "      <td>GraphImage</td>\n",
       "      <td>False</td>\n",
       "      <td>{'height': 1175, 'width': 1080}</td>\n",
       "      <td>https://scontent-waw1-1.cdninstagram.com/v/t51...</td>\n",
       "      <td>828548</td>\n",
       "      <td>{'edges': [{'node': {'text': 'What you’ve been...</td>\n",
       "      <td>5994</td>\n",
       "      <td>2276548965795267591</td>\n",
       "      <td>False</td>\n",
       "      <td>kimkardashian</td>\n",
       "      <td>NaN</td>\n",
       "    </tr>\n",
       "    <tr>\n",
       "      <td>1</td>\n",
       "      <td>GraphImage</td>\n",
       "      <td>False</td>\n",
       "      <td>{'height': 1300, 'width': 1080}</td>\n",
       "      <td>https://scontent-waw1-1.cdninstagram.com/v/t51...</td>\n",
       "      <td>1093129</td>\n",
       "      <td>{'edges': [{'node': {'text': 'Shapewear is now...</td>\n",
       "      <td>5401</td>\n",
       "      <td>2276366116311797604</td>\n",
       "      <td>False</td>\n",
       "      <td>kimkardashian</td>\n",
       "      <td>NaN</td>\n",
       "    </tr>\n",
       "    <tr>\n",
       "      <td>2</td>\n",
       "      <td>GraphImage</td>\n",
       "      <td>False</td>\n",
       "      <td>{'height': 1080, 'width': 1080}</td>\n",
       "      <td>https://scontent-waw1-1.cdninstagram.com/v/t51...</td>\n",
       "      <td>1606993</td>\n",
       "      <td>{'edges': [{'node': {'text': 'Found this pic o...</td>\n",
       "      <td>9673</td>\n",
       "      <td>2276326439940973637</td>\n",
       "      <td>False</td>\n",
       "      <td>kimkardashian</td>\n",
       "      <td>NaN</td>\n",
       "    </tr>\n",
       "    <tr>\n",
       "      <td>3</td>\n",
       "      <td>GraphImage</td>\n",
       "      <td>False</td>\n",
       "      <td>{'height': 1350, 'width': 1080}</td>\n",
       "      <td>https://scontent-waw1-1.cdninstagram.com/v/t51...</td>\n",
       "      <td>1330759</td>\n",
       "      <td>{'edges': [{'node': {'text': 'Tomorrow shapewe...</td>\n",
       "      <td>7760</td>\n",
       "      <td>2275876008097949806</td>\n",
       "      <td>False</td>\n",
       "      <td>kimkardashian</td>\n",
       "      <td>NaN</td>\n",
       "    </tr>\n",
       "    <tr>\n",
       "      <td>4</td>\n",
       "      <td>GraphImage</td>\n",
       "      <td>False</td>\n",
       "      <td>{'height': 1179, 'width': 1080}</td>\n",
       "      <td>https://scontent-waw1-1.cdninstagram.com/v/t51...</td>\n",
       "      <td>2060972</td>\n",
       "      <td>{'edges': [{'node': {'text': 'My hair is gonna...</td>\n",
       "      <td>11911</td>\n",
       "      <td>2275764997302972339</td>\n",
       "      <td>False</td>\n",
       "      <td>kimkardashian</td>\n",
       "      <td>NaN</td>\n",
       "    </tr>\n",
       "    <tr>\n",
       "      <td>...</td>\n",
       "      <td>...</td>\n",
       "      <td>...</td>\n",
       "      <td>...</td>\n",
       "      <td>...</td>\n",
       "      <td>...</td>\n",
       "      <td>...</td>\n",
       "      <td>...</td>\n",
       "      <td>...</td>\n",
       "      <td>...</td>\n",
       "      <td>...</td>\n",
       "      <td>...</td>\n",
       "    </tr>\n",
       "    <tr>\n",
       "      <td>179</td>\n",
       "      <td>GraphImage</td>\n",
       "      <td>False</td>\n",
       "      <td>{'height': 1080, 'width': 1080}</td>\n",
       "      <td>https://scontent-waw1-1.cdninstagram.com/v/t51...</td>\n",
       "      <td>11383</td>\n",
       "      <td>{'edges': [{'node': {'text': '@arthurgeorge87 ...</td>\n",
       "      <td>319</td>\n",
       "      <td>2050973268052378958</td>\n",
       "      <td>False</td>\n",
       "      <td>robkardashianofficial</td>\n",
       "      <td>NaN</td>\n",
       "    </tr>\n",
       "    <tr>\n",
       "      <td>180</td>\n",
       "      <td>GraphImage</td>\n",
       "      <td>False</td>\n",
       "      <td>{'height': 1080, 'width': 1080}</td>\n",
       "      <td>https://scontent-waw1-1.cdninstagram.com/v/t51...</td>\n",
       "      <td>4508</td>\n",
       "      <td>{'edges': [{'node': {'text': '@halfwaydead'}}]}</td>\n",
       "      <td>50</td>\n",
       "      <td>2050967271556611271</td>\n",
       "      <td>False</td>\n",
       "      <td>robkardashianofficial</td>\n",
       "      <td>NaN</td>\n",
       "    </tr>\n",
       "    <tr>\n",
       "      <td>181</td>\n",
       "      <td>GraphImage</td>\n",
       "      <td>False</td>\n",
       "      <td>{'height': 1245, 'width': 1080}</td>\n",
       "      <td>https://scontent-waw1-1.cdninstagram.com/v/t51...</td>\n",
       "      <td>5684</td>\n",
       "      <td>{'edges': [{'node': {'text': '@halfwaydead H W...</td>\n",
       "      <td>58</td>\n",
       "      <td>2050966323098648358</td>\n",
       "      <td>False</td>\n",
       "      <td>robkardashianofficial</td>\n",
       "      <td>NaN</td>\n",
       "    </tr>\n",
       "    <tr>\n",
       "      <td>182</td>\n",
       "      <td>GraphImage</td>\n",
       "      <td>False</td>\n",
       "      <td>{'height': 1080, 'width': 1080}</td>\n",
       "      <td>https://scontent-waw1-1.cdninstagram.com/v/t51...</td>\n",
       "      <td>5881</td>\n",
       "      <td>{'edges': [{'node': {'text': 'HWD @halfwaydead...</td>\n",
       "      <td>127</td>\n",
       "      <td>2050965748093146048</td>\n",
       "      <td>False</td>\n",
       "      <td>robkardashianofficial</td>\n",
       "      <td>NaN</td>\n",
       "    </tr>\n",
       "    <tr>\n",
       "      <td>183</td>\n",
       "      <td>GraphImage</td>\n",
       "      <td>False</td>\n",
       "      <td>{'height': 1080, 'width': 1080}</td>\n",
       "      <td>https://scontent-waw1-1.cdninstagram.com/v/t51...</td>\n",
       "      <td>14100</td>\n",
       "      <td>{'edges': [{'node': {'text': 'GAME DAY socks a...</td>\n",
       "      <td>759</td>\n",
       "      <td>1817079767804250462</td>\n",
       "      <td>False</td>\n",
       "      <td>robkardashianofficial</td>\n",
       "      <td>NaN</td>\n",
       "    </tr>\n",
       "  </tbody>\n",
       "</table>\n",
       "<p>374 rows × 11 columns</p>\n",
       "</div>"
      ],
      "text/plain": [
       "     __typename  comments_disabled                       dimensions  \\\n",
       "0    GraphImage              False  {'height': 1175, 'width': 1080}   \n",
       "1    GraphImage              False  {'height': 1300, 'width': 1080}   \n",
       "2    GraphImage              False  {'height': 1080, 'width': 1080}   \n",
       "3    GraphImage              False  {'height': 1350, 'width': 1080}   \n",
       "4    GraphImage              False  {'height': 1179, 'width': 1080}   \n",
       "..          ...                ...                              ...   \n",
       "179  GraphImage              False  {'height': 1080, 'width': 1080}   \n",
       "180  GraphImage              False  {'height': 1080, 'width': 1080}   \n",
       "181  GraphImage              False  {'height': 1245, 'width': 1080}   \n",
       "182  GraphImage              False  {'height': 1080, 'width': 1080}   \n",
       "183  GraphImage              False  {'height': 1080, 'width': 1080}   \n",
       "\n",
       "                                                   url    likes  \\\n",
       "0    https://scontent-waw1-1.cdninstagram.com/v/t51...   828548   \n",
       "1    https://scontent-waw1-1.cdninstagram.com/v/t51...  1093129   \n",
       "2    https://scontent-waw1-1.cdninstagram.com/v/t51...  1606993   \n",
       "3    https://scontent-waw1-1.cdninstagram.com/v/t51...  1330759   \n",
       "4    https://scontent-waw1-1.cdninstagram.com/v/t51...  2060972   \n",
       "..                                                 ...      ...   \n",
       "179  https://scontent-waw1-1.cdninstagram.com/v/t51...    11383   \n",
       "180  https://scontent-waw1-1.cdninstagram.com/v/t51...     4508   \n",
       "181  https://scontent-waw1-1.cdninstagram.com/v/t51...     5684   \n",
       "182  https://scontent-waw1-1.cdninstagram.com/v/t51...     5881   \n",
       "183  https://scontent-waw1-1.cdninstagram.com/v/t51...    14100   \n",
       "\n",
       "                                               caption  comments  \\\n",
       "0    {'edges': [{'node': {'text': 'What you’ve been...      5994   \n",
       "1    {'edges': [{'node': {'text': 'Shapewear is now...      5401   \n",
       "2    {'edges': [{'node': {'text': 'Found this pic o...      9673   \n",
       "3    {'edges': [{'node': {'text': 'Tomorrow shapewe...      7760   \n",
       "4    {'edges': [{'node': {'text': 'My hair is gonna...     11911   \n",
       "..                                                 ...       ...   \n",
       "179  {'edges': [{'node': {'text': '@arthurgeorge87 ...       319   \n",
       "180    {'edges': [{'node': {'text': '@halfwaydead'}}]}        50   \n",
       "181  {'edges': [{'node': {'text': '@halfwaydead H W...        58   \n",
       "182  {'edges': [{'node': {'text': 'HWD @halfwaydead...       127   \n",
       "183  {'edges': [{'node': {'text': 'GAME DAY socks a...       759   \n",
       "\n",
       "                      id  is_video               username  video_view_count  \n",
       "0    2276548965795267591     False          kimkardashian               NaN  \n",
       "1    2276366116311797604     False          kimkardashian               NaN  \n",
       "2    2276326439940973637     False          kimkardashian               NaN  \n",
       "3    2275876008097949806     False          kimkardashian               NaN  \n",
       "4    2275764997302972339     False          kimkardashian               NaN  \n",
       "..                   ...       ...                    ...               ...  \n",
       "179  2050973268052378958     False  robkardashianofficial               NaN  \n",
       "180  2050967271556611271     False  robkardashianofficial               NaN  \n",
       "181  2050966323098648358     False  robkardashianofficial               NaN  \n",
       "182  2050965748093146048     False  robkardashianofficial               NaN  \n",
       "183  1817079767804250462     False  robkardashianofficial               NaN  \n",
       "\n",
       "[374 rows x 11 columns]"
      ]
     },
     "execution_count": 18,
     "metadata": {},
     "output_type": "execute_result"
    }
   ],
   "source": [
    "all_images"
   ]
  },
  {
   "cell_type": "code",
   "execution_count": 19,
   "metadata": {},
   "outputs": [],
   "source": [
    "#create a 2D array. loop through every post and number it. one column of the array gets all the comments. the second..\n",
    "# gets the number of the post\n",
    "post_id=-1\n",
    "comments=[[]for post in data['GraphImages']]\n",
    "for post in data['GraphImages']:\n",
    "    post_id+=1\n",
    "    for i in post['comments']['data']:\n",
    "        comments[0].append(i['text'])\n",
    "        comments[1].append(post_id)\n",
    "#kim_comments=[[]for post2 in data2['GraphImages']]\n",
    "#for post2 in data2['GraphImages']:\n",
    " #   post_id+=1\n",
    "  #  for i in post2['comments']['data']:\n",
    "   #     comments[0].append(i['text'])\n",
    "    #    comments[1].append(post_id)"
   ]
  },
  {
   "cell_type": "code",
   "execution_count": 20,
   "metadata": {},
   "outputs": [],
   "source": [
    "all_comments=pd.DataFrame(columns=['comment','post_id'])"
   ]
  },
  {
   "cell_type": "code",
   "execution_count": 21,
   "metadata": {},
   "outputs": [],
   "source": [
    "#make a dataframe from the array with comments\n",
    "all_comments['comment']=comments[0]\n",
    "all_comments['post_id']=comments[1]"
   ]
  },
  {
   "cell_type": "code",
   "execution_count": 22,
   "metadata": {},
   "outputs": [
    {
     "data": {
      "text/html": [
       "<div>\n",
       "<style scoped>\n",
       "    .dataframe tbody tr th:only-of-type {\n",
       "        vertical-align: middle;\n",
       "    }\n",
       "\n",
       "    .dataframe tbody tr th {\n",
       "        vertical-align: top;\n",
       "    }\n",
       "\n",
       "    .dataframe thead th {\n",
       "        text-align: right;\n",
       "    }\n",
       "</style>\n",
       "<table border=\"1\" class=\"dataframe\">\n",
       "  <thead>\n",
       "    <tr style=\"text-align: right;\">\n",
       "      <th></th>\n",
       "      <th>comment</th>\n",
       "      <th>post_id</th>\n",
       "    </tr>\n",
       "  </thead>\n",
       "  <tbody>\n",
       "    <tr>\n",
       "      <td>0</td>\n",
       "      <td>میمون</td>\n",
       "      <td>0</td>\n",
       "    </tr>\n",
       "    <tr>\n",
       "      <td>1</td>\n",
       "      <td>👏</td>\n",
       "      <td>0</td>\n",
       "    </tr>\n",
       "    <tr>\n",
       "      <td>2</td>\n",
       "      <td>The pieces together</td>\n",
       "      <td>0</td>\n",
       "    </tr>\n",
       "    <tr>\n",
       "      <td>3</td>\n",
       "      <td>Follow this MEME PAGE you won't regret!</td>\n",
       "      <td>0</td>\n",
       "    </tr>\n",
       "    <tr>\n",
       "      <td>4</td>\n",
       "      <td>😍😍😍</td>\n",
       "      <td>0</td>\n",
       "    </tr>\n",
       "    <tr>\n",
       "      <td>...</td>\n",
       "      <td>...</td>\n",
       "      <td>...</td>\n",
       "    </tr>\n",
       "    <tr>\n",
       "      <td>1959944</td>\n",
       "      <td>👍</td>\n",
       "      <td>189</td>\n",
       "    </tr>\n",
       "    <tr>\n",
       "      <td>1959945</td>\n",
       "      <td>Bomb 💖💖💖</td>\n",
       "      <td>189</td>\n",
       "    </tr>\n",
       "    <tr>\n",
       "      <td>1959946</td>\n",
       "      <td>😍😍😍😍❤️</td>\n",
       "      <td>189</td>\n",
       "    </tr>\n",
       "    <tr>\n",
       "      <td>1959947</td>\n",
       "      <td>Amazing 😍</td>\n",
       "      <td>189</td>\n",
       "    </tr>\n",
       "    <tr>\n",
       "      <td>1959948</td>\n",
       "      <td>🔥🔥🔥🔥😍😍😍love from India🇮🇳</td>\n",
       "      <td>189</td>\n",
       "    </tr>\n",
       "  </tbody>\n",
       "</table>\n",
       "<p>1959949 rows × 2 columns</p>\n",
       "</div>"
      ],
      "text/plain": [
       "                                         comment  post_id\n",
       "0                                          میمون        0\n",
       "1                                              👏        0\n",
       "2                            The pieces together        0\n",
       "3        Follow this MEME PAGE you won't regret!        0\n",
       "4                                            😍😍😍        0\n",
       "...                                          ...      ...\n",
       "1959944                                        👍      189\n",
       "1959945                                 Bomb 💖💖💖      189\n",
       "1959946                                   😍😍😍😍❤️      189\n",
       "1959947                                Amazing 😍      189\n",
       "1959948                 🔥🔥🔥🔥😍😍😍love from India🇮🇳      189\n",
       "\n",
       "[1959949 rows x 2 columns]"
      ]
     },
     "execution_count": 22,
     "metadata": {},
     "output_type": "execute_result"
    }
   ],
   "source": [
    "all_comments"
   ]
  },
  {
   "cell_type": "code",
   "execution_count": 23,
   "metadata": {},
   "outputs": [
    {
     "name": "stdout",
     "output_type": "stream",
     "text": [
      "Collecting vaderSentiment\n",
      "  Downloading https://files.pythonhosted.org/packages/44/a3/1218a3b5651dbcba1699101c84e5c84c36cbba360d9dbf29f2ff18482982/vaderSentiment-3.3.1-py2.py3-none-any.whl (125kB)\n",
      "Installing collected packages: vaderSentiment\n",
      "Successfully installed vaderSentiment-3.3.1\n"
     ]
    },
    {
     "name": "stderr",
     "output_type": "stream",
     "text": [
      "ERROR: Error checking for conflicts.\n",
      "Traceback (most recent call last):\n",
      "  File \"C:\\Users\\Liyonn\\Anaconda3\\lib\\site-packages\\pip\\_vendor\\pkg_resources\\__init__.py\", line 3012, in _dep_map\n",
      "    return self.__dep_map\n",
      "  File \"C:\\Users\\Liyonn\\Anaconda3\\lib\\site-packages\\pip\\_vendor\\pkg_resources\\__init__.py\", line 2806, in __getattr__\n",
      "    raise AttributeError(attr)\n",
      "AttributeError: _DistInfoDistribution__dep_map\n",
      "\n",
      "During handling of the above exception, another exception occurred:\n",
      "\n",
      "Traceback (most recent call last):\n",
      "  File \"C:\\Users\\Liyonn\\Anaconda3\\lib\\site-packages\\pip\\_vendor\\pkg_resources\\__init__.py\", line 3003, in _parsed_pkg_info\n",
      "    return self._pkg_info\n",
      "  File \"C:\\Users\\Liyonn\\Anaconda3\\lib\\site-packages\\pip\\_vendor\\pkg_resources\\__init__.py\", line 2806, in __getattr__\n",
      "    raise AttributeError(attr)\n",
      "AttributeError: _pkg_info\n",
      "\n",
      "During handling of the above exception, another exception occurred:\n",
      "\n",
      "Traceback (most recent call last):\n",
      "  File \"C:\\Users\\Liyonn\\Anaconda3\\lib\\site-packages\\pip\\_internal\\commands\\install.py\", line 517, in _warn_about_conflicts\n",
      "    package_set, _dep_info = check_install_conflicts(to_install)\n",
      "  File \"C:\\Users\\Liyonn\\Anaconda3\\lib\\site-packages\\pip\\_internal\\operations\\check.py\", line 110, in check_install_conflicts\n",
      "    package_set, _ = create_package_set_from_installed()\n",
      "  File \"C:\\Users\\Liyonn\\Anaconda3\\lib\\site-packages\\pip\\_internal\\operations\\check.py\", line 49, in create_package_set_from_installed\n",
      "    package_set[name] = PackageDetails(dist.version, dist.requires())\n",
      "  File \"C:\\Users\\Liyonn\\Anaconda3\\lib\\site-packages\\pip\\_vendor\\pkg_resources\\__init__.py\", line 2727, in requires\n",
      "    dm = self._dep_map\n",
      "  File \"C:\\Users\\Liyonn\\Anaconda3\\lib\\site-packages\\pip\\_vendor\\pkg_resources\\__init__.py\", line 3014, in _dep_map\n",
      "    self.__dep_map = self._compute_dependencies()\n",
      "  File \"C:\\Users\\Liyonn\\Anaconda3\\lib\\site-packages\\pip\\_vendor\\pkg_resources\\__init__.py\", line 3023, in _compute_dependencies\n",
      "    for req in self._parsed_pkg_info.get_all('Requires-Dist') or []:\n",
      "  File \"C:\\Users\\Liyonn\\Anaconda3\\lib\\site-packages\\pip\\_vendor\\pkg_resources\\__init__.py\", line 3005, in _parsed_pkg_info\n",
      "    metadata = self.get_metadata(self.PKG_INFO)\n",
      "  File \"C:\\Users\\Liyonn\\Anaconda3\\lib\\site-packages\\pip\\_vendor\\pkg_resources\\__init__.py\", line 1419, in get_metadata\n",
      "    value = self._get(self._fn(self.egg_info, name))\n",
      "  File \"C:\\Users\\Liyonn\\Anaconda3\\lib\\site-packages\\pip\\_vendor\\pkg_resources\\__init__.py\", line 1607, in _get\n",
      "    with open(path, 'rb') as stream:\n",
      "FileNotFoundError: [Errno 2] No such file or directory: 'c:\\\\users\\\\liyonn\\\\anaconda3\\\\lib\\\\site-packages\\\\tensorflow-2.1.0.dist-info\\\\METADATA'\n"
     ]
    },
    {
     "name": "stdout",
     "output_type": "stream",
     "text": [
      "Note: you may need to restart the kernel to use updated packages.\n"
     ]
    }
   ],
   "source": [
    "pip install vaderSentiment"
   ]
  },
  {
   "cell_type": "code",
   "execution_count": 24,
   "metadata": {},
   "outputs": [],
   "source": [
    "from vaderSentiment.vaderSentiment import SentimentIntensityAnalyzer"
   ]
  },
  {
   "cell_type": "code",
   "execution_count": 25,
   "metadata": {},
   "outputs": [],
   "source": [
    "analyser = SentimentIntensityAnalyzer()"
   ]
  },
  {
   "cell_type": "code",
   "execution_count": 26,
   "metadata": {},
   "outputs": [],
   "source": [
    "sentiment_comments=[]\n",
    "for c in comments[0]:\n",
    "    vs = analyser.polarity_scores(c)\n",
    "    sentiment_comments.append(vs)"
   ]
  },
  {
   "cell_type": "code",
   "execution_count": 27,
   "metadata": {},
   "outputs": [],
   "source": [
    "score=[]\n",
    "for i in sentiment_comments:\n",
    "    score.append(i['compound'])"
   ]
  },
  {
   "cell_type": "code",
   "execution_count": 28,
   "metadata": {},
   "outputs": [],
   "source": [
    "positive=0\n",
    "negative=0\n",
    "for i in score:\n",
    "    if i<negative:\n",
    "        negative=i\n",
    "    if i>positive:\n",
    "        positive=i"
   ]
  },
  {
   "cell_type": "code",
   "execution_count": 29,
   "metadata": {},
   "outputs": [
    {
     "data": {
      "text/plain": [
       "1.0"
      ]
     },
     "execution_count": 29,
     "metadata": {},
     "output_type": "execute_result"
    }
   ],
   "source": [
    "positive"
   ]
  },
  {
   "cell_type": "code",
   "execution_count": null,
   "metadata": {},
   "outputs": [],
   "source": []
  }
 ],
 "metadata": {
  "kernelspec": {
   "display_name": "Python 3",
   "language": "python",
   "name": "python3"
  },
  "language_info": {
   "codemirror_mode": {
    "name": "ipython",
    "version": 3
   },
   "file_extension": ".py",
   "mimetype": "text/x-python",
   "name": "python",
   "nbconvert_exporter": "python",
   "pygments_lexer": "ipython3",
   "version": "3.8.3"
  }
 },
 "nbformat": 4,
 "nbformat_minor": 4
}
